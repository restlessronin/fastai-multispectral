{
 "cells": [
  {
   "cell_type": "code",
   "execution_count": null,
   "id": "74714394",
   "metadata": {},
   "outputs": [],
   "source": [
    "#| default_exp test.fixture"
   ]
  },
  {
   "cell_type": "code",
   "execution_count": null,
   "id": "98246fd0",
   "metadata": {},
   "outputs": [],
   "source": [
    "#| export\n",
    "from __future__ import annotations"
   ]
  },
  {
   "cell_type": "code",
   "execution_count": null,
   "id": "6a8fb231",
   "metadata": {},
   "outputs": [],
   "source": [
    "#| hide\n",
    "from nbdev.showdoc import *"
   ]
  },
  {
   "cell_type": "code",
   "execution_count": null,
   "id": "b86d08ba",
   "metadata": {},
   "outputs": [],
   "source": [
    "#| export\n",
    "from fastai.vision.all import *\n",
    "from fastgs.test.io import *\n",
    "from fastgs.vision.core import *\n",
    "from fastgs.multispectral import *"
   ]
  },
  {
   "cell_type": "markdown",
   "id": "d865bf31",
   "metadata": {},
   "source": [
    "# Test fixture\n",
    "\n",
    "> Sample test data to be used in various notebooks as demo examples"
   ]
  },
  {
   "cell_type": "code",
   "execution_count": null,
   "id": "178584eb",
   "metadata": {},
   "outputs": [],
   "source": [
    "#| export\n",
    "def get_elvn_bands_test_tuple() -> tuple(TensorImageMS, TensorMask):\n",
    "    \"Create sample test tuple for eleven band Sentinel 2 data\"\n",
    "    sentinel2 = createSentinel2Descriptor()\n",
    "\n",
    "    elvn_bands = MSData.from_all(\n",
    "        sentinel2,\n",
    "        [\"B02\",\"B03\",\"B04\",\"B05\",\"B06\",\"B07\",\"B08\",\"B8A\",\"B11\",\"B12\",\"AOT\"],\n",
    "        [sentinel2.rgb_combo[\"natural_color\"], [\"B07\",\"B06\",\"B05\"],[\"B12\",\"B11\",\"B8A\"],[\"B08\"]],\n",
    "        get_channel_filenames,\n",
    "        read_multichan_files\n",
    "    )\n",
    "\n",
    "    masks = MaskData(\"LC\",get_channel_filenames,read_mask_file,[\"non-buildings\",\"buildings\"])\n",
    "\n",
    "    elvn_img = elvn_bands.load_image(66)\n",
    "    elvn_msk = masks.load_mask(66)\n",
    "    \n",
    "    return (elvn_img, elvn_msk)"
   ]
  },
  {
   "cell_type": "code",
   "execution_count": null,
   "id": "99149acc",
   "metadata": {},
   "outputs": [],
   "source": [
    "#| hide\n",
    "import nbdev; nbdev.nbdev_export()"
   ]
  }
 ],
 "metadata": {
  "kernelspec": {
   "display_name": "Python [conda env:fastgs] *",
   "language": "python",
   "name": "conda-env-fastgs-py"
  }
 },
 "nbformat": 4,
 "nbformat_minor": 5
}
