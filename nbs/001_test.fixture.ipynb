{
 "cells": [
  {
   "cell_type": "code",
   "execution_count": null,
   "id": "74714394",
   "metadata": {},
   "outputs": [],
   "source": [
    "#| default_exp test.fixture"
   ]
  },
  {
   "cell_type": "code",
   "execution_count": null,
   "id": "98246fd0",
   "metadata": {},
   "outputs": [],
   "source": [
    "#| export\n",
    "from __future__ import annotations"
   ]
  },
  {
   "cell_type": "code",
   "execution_count": null,
   "id": "6a8fb231",
   "metadata": {},
   "outputs": [],
   "source": [
    "#| hide\n",
    "from nbdev.showdoc import *"
   ]
  },
  {
   "cell_type": "code",
   "execution_count": null,
   "id": "b86d08ba",
   "metadata": {},
   "outputs": [],
   "source": [
    "#| export\n",
    "from fastai.vision.all import *\n",
    "from fastgs.test.io import *\n",
    "from fastgs.vision.core import *\n",
    "from fastgs.multispectral import *"
   ]
  },
  {
   "cell_type": "markdown",
   "id": "d865bf31",
   "metadata": {},
   "source": [
    "# Test fixture\n",
    "\n",
    "> Sample test data to be used in various notebooks as demo examples"
   ]
  },
  {
   "cell_type": "code",
   "execution_count": null,
   "id": "db7f7076",
   "metadata": {},
   "outputs": [],
   "source": [
    "#| export\n",
    "def _get_11b_msdata():\n",
    "    sentinel2 = createSentinel2Descriptor()\n",
    "    return MSData.from_files(\n",
    "        sentinel2,\n",
    "        [\"B02\",\"B03\",\"B04\",\"B05\",\"B06\",\"B07\",\"B08\",\"B8A\",\"B11\",\"B12\",\"AOT\"],\n",
    "        [sentinel2.rgb_combo[\"natural_color\"], [\"B07\",\"B06\",\"B05\"],[\"B12\",\"B11\",\"B8A\"],[\"B08\"]],\n",
    "        get_channel_filenames,\n",
    "        read_multichan_files\n",
    "    )\n",
    "\n",
    "def _get_mask_data():\n",
    "    return MaskData.from_files(\"LC\",get_channel_filenames,read_mask_file,[\"non-buildings\",\"buildings\"])\n",
    "\n",
    "def _get_augs():\n",
    "    return MSAugment.from_augs()"
   ]
  },
  {
   "cell_type": "code",
   "execution_count": null,
   "id": "f339fbf4",
   "metadata": {},
   "outputs": [],
   "source": [
    "#| export\n",
    "def _get_11b_data_block():\n",
    "    return get_11b_test_fgs().create_data_block()\n",
    "\n",
    "def get_11b_test_tuple() -> tuple(TensorImageMS, TensorMask):\n",
    "    \"Create sample test tuple for eleven band Sentinel 2 data\"\n",
    "    return (\n",
    "        _get_11b_msdata().load_image(66),\n",
    "        _get_mask_data().load_mask(66)\n",
    "    )\n",
    "\n",
    "def get_11b_test_fgs(augs=_get_augs()):\n",
    "    \"Create sample FastGS wrapper for eleven band Sentinel 2 data\"\n",
    "    return FastGS.for_training(_get_11b_msdata(),_get_mask_data(),augs)\n",
    "\n",
    "def get_11b_test_learner():\n",
    "    \"Create sample FastGS learner for eleven band Sentinel 2 data\"\n",
    "    fgs = get_11b_test_fgs()\n",
    "    db = fgs.create_data_block()\n",
    "    dl = db.dataloaders(source=[66]*10,bs=8)\n",
    "    return fgs.create_learner(dl)\n",
    "\n",
    "def get_11b_test_dl() -> DataBlock:\n",
    "    \"Create data loader with sample inputs repeated nlen times\"\n",
    "    return _get_11b_data_block().dataloaders(source=[66]*10,bs=8)"
   ]
  },
  {
   "cell_type": "code",
   "execution_count": null,
   "id": "99149acc",
   "metadata": {},
   "outputs": [],
   "source": [
    "#| hide\n",
    "import nbdev; nbdev.nbdev_export()"
   ]
  }
 ],
 "metadata": {
  "kernelspec": {
   "display_name": "Python [conda env:fastgs] *",
   "language": "python",
   "name": "conda-env-fastgs-py"
  }
 },
 "nbformat": 4,
 "nbformat_minor": 5
}
