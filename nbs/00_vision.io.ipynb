{
 "cells": [
  {
   "cell_type": "code",
   "execution_count": null,
   "id": "ec096602",
   "metadata": {},
   "outputs": [],
   "source": [
    "#| default_exp vision.io"
   ]
  },
  {
   "cell_type": "code",
   "execution_count": null,
   "id": "932826c9",
   "metadata": {},
   "outputs": [],
   "source": [
    "#| export\n",
    "from __future__ import annotations"
   ]
  },
  {
   "cell_type": "code",
   "execution_count": null,
   "id": "a2c38471",
   "metadata": {},
   "outputs": [],
   "source": [
    "#| hide\n",
    "from nbdev.showdoc import *"
   ]
  },
  {
   "cell_type": "code",
   "execution_count": null,
   "id": "b4259449",
   "metadata": {},
   "outputs": [],
   "source": [
    "#| export\n",
    "from PIL import Image\n",
    "from fastai.vision.all import *"
   ]
  },
  {
   "cell_type": "markdown",
   "id": "203f754d",
   "metadata": {},
   "source": [
    "# Read multi-spectral Images\n",
    "\n",
    "## File I/O from PNG files\n",
    "\n",
    "We create a multi-spectral tensor by reading (in this case) sentinel 2 images from files. Each sentinel channel is saved in a separate `.png` file. We can use `PIL` to read the files into `numpy` arrays which are then cast into `Tensor`s.\n",
    "\n",
    "Sentinel channels have so-called `DN` values less than `10000`. By convention `55537` is assigned to a pixel when the actual data is missing or unknown.\n",
    "\n",
    "We have normalized the data with a min-max of `(0, 10000)` after replacing missing values with `9999`."
   ]
  },
  {
   "cell_type": "code",
   "execution_count": null,
   "id": "2cf02683",
   "metadata": {},
   "outputs": [],
   "source": [
    "#| export\n",
    "def filter_masked(raw_arr, in_msk: int, out_msk: int):\n",
    "    \"Replace input mask pixel value with selected value\"\n",
    "    return np.select([raw_arr == in_msk], [out_msk], raw_arr)\n",
    "\n",
    "def read_chn_file_as_tensor(path: str) -> Tensor:\n",
    "    \"Read single channel file into tensor\"\n",
    "    img_arr = np.array(Image.open(path))\n",
    "    msk_arr = filter_masked(img_arr, 55537, 9999)\n",
    "    return Tensor(msk_arr / 10000)\n",
    "\n",
    "def read_multichan_files_as_tensor(files: list(str)) -> Tensor:\n",
    "    \"Read individual channel tensor files into a tensor of channels\"\n",
    "    return torch.cat([read_chn_file_as_tensor(path)[None] for path in files])"
   ]
  },
  {
   "cell_type": "markdown",
   "id": "7cdf7449",
   "metadata": {},
   "source": [
    "## File paths and names"
   ]
  },
  {
   "cell_type": "code",
   "execution_count": null,
   "id": "a0b1f2a8",
   "metadata": {},
   "outputs": [],
   "source": [
    "#| export\n",
    "def get_input(stem: str) -> str:\n",
    "    \"Get full input path for stem\"\n",
    "    return \"/Users/Shared/gengeo/input-tiles/\" + stem\n",
    "\n",
    "def tile_img_name(chn_id: str, tile_num: int) -> str:\n",
    "    \"File name from channel id and tile number\"\n",
    "    return f\"Sentinel20m-{chn_id}-20200215-{tile_num:03d}.png\"\n",
    "\n",
    "def get_channel_filenames(chn_ids, tile_idx):\n",
    "    \"Get list of all channel filenames for one tile idx\"\n",
    "    return [get_input(tile_img_name(x, tile_idx)) for x in chn_ids]"
   ]
  },
  {
   "cell_type": "code",
   "execution_count": null,
   "id": "569a67a4",
   "metadata": {},
   "outputs": [],
   "source": [
    "#| hide\n",
    "import nbdev; nbdev.nbdev_export()"
   ]
  }
 ],
 "metadata": {
  "kernelspec": {
   "display_name": "Python [conda env:lila-deep]",
   "language": "python",
   "name": "conda-env-lila-deep-py"
  }
 },
 "nbformat": 4,
 "nbformat_minor": 5
}
