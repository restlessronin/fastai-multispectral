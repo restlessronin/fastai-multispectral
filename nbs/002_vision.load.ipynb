{
 "cells": [
  {
   "cell_type": "code",
   "execution_count": null,
   "id": "1c33bb14",
   "metadata": {},
   "outputs": [],
   "source": [
    "#|default_exp vision.load"
   ]
  },
  {
   "cell_type": "code",
   "execution_count": null,
   "id": "d7dea3c2",
   "metadata": {},
   "outputs": [],
   "source": [
    "#| export\n",
    "from __future__ import annotations"
   ]
  },
  {
   "cell_type": "code",
   "execution_count": null,
   "id": "650ca654",
   "metadata": {},
   "outputs": [],
   "source": [
    "#| hide\n",
    "from nbdev.showdoc import *"
   ]
  },
  {
   "cell_type": "code",
   "execution_count": null,
   "id": "7ebfea51",
   "metadata": {},
   "outputs": [],
   "source": [
    "#| export\n",
    "from typing import Callable\n",
    "from fastai.vision.all import *\n",
    "from fastgs.vision.core import *"
   ]
  },
  {
   "cell_type": "markdown",
   "id": "762ecd52",
   "metadata": {},
   "source": [
    "# Tensor loading helpers\n",
    "\n",
    "## `MSTensorGetter`\n",
    "\n",
    "We create an abstraction that loads multispectral tensors given a list of channels and a tile id."
   ]
  },
  {
   "cell_type": "code",
   "execution_count": null,
   "id": "0200a8a2",
   "metadata": {},
   "outputs": [],
   "source": [
    "#| export\n",
    "class MSTensorGetter:\n",
    "    pass\n",
    "\n",
    "@patch\n",
    "def load_tensor(self: MSTensorGetter, band_ids: list[str], img_id: Any) -> TensorImageMS:\n",
    "    pass"
   ]
  },
  {
   "cell_type": "markdown",
   "id": "cd9daf85",
   "metadata": {},
   "source": [
    "The common case is specified with 2 functions, one which returns a list of files for the specified channels, and another that loads a `TensorImageMS` given that list of files."
   ]
  },
  {
   "cell_type": "code",
   "execution_count": null,
   "id": "aa230027",
   "metadata": {},
   "outputs": [],
   "source": [
    "#| export\n",
    "class _MSFileTensorGetter(MSTensorGetter):\n",
    "    pass\n",
    "\n",
    "@patch\n",
    "def __init__(\n",
    "    self: _MSFileTensorGetter,\n",
    "    files_getter: Callable[[list[str], Any], list[str]],\n",
    "    chan_io_fn: Callable[list[str], TensorImageMS]\n",
    "):\n",
    "    store_attr()\n",
    "\n",
    "@patch\n",
    "def load_tensor(self: _MSFileTensorGetter, band_ids: list[str], img_id: Any) -> TensorImageMS:\n",
    "    files = self.files_getter(band_ids, img_id)\n",
    "    return self.chan_io_fn(files)"
   ]
  },
  {
   "cell_type": "markdown",
   "id": "0af46f5e",
   "metadata": {},
   "source": [
    "For unusual cases, we supply a function that does the complete tensor loading"
   ]
  },
  {
   "cell_type": "code",
   "execution_count": null,
   "id": "2c538219",
   "metadata": {},
   "outputs": [],
   "source": [
    "#| export\n",
    "class _MSDelegatingTensorGetter(MSTensorGetter):\n",
    "    pass\n",
    "\n",
    "@patch\n",
    "def __init__(\n",
    "    self: _MSDelegatingTensorGetter,\n",
    "    tg_fn: Callable[[list[str], Any], TensorImageMS]\n",
    "):\n",
    "    store_attr()\n",
    "\n",
    "@patch\n",
    "def load_tensor(self: _MSDelegatingTensorGetter, band_ids: list[str], img_id: Any) -> TensorImageMS:\n",
    "    return self.tg_fn(band_ids, img_id)"
   ]
  },
  {
   "cell_type": "markdown",
   "id": "886b2795",
   "metadata": {},
   "source": [
    "Finally we provide factories"
   ]
  },
  {
   "cell_type": "code",
   "execution_count": null,
   "id": "06fc1eb7",
   "metadata": {},
   "outputs": [],
   "source": [
    "#| export\n",
    "@patch(cls_method=True)\n",
    "def from_files(\n",
    "    cls: MSTensorGetter,\n",
    "    files_getter: Callable[[list[str], Any], list[str]],\n",
    "    chan_io_fn: Callable[list[str], TensorImageMS]\n",
    "):\n",
    "    return _MSFileTensorGetter(files_getter, chan_io_fn)\n",
    "\n",
    "@patch(cls_method=True)\n",
    "def from_delegate(\n",
    "    cls: MSTensorGetter,\n",
    "    tg_fn: Callable[[list[str], Any], TensorImageMS]\n",
    "):\n",
    "    return _MSDelegatingTensorGetter(tg_fn)"
   ]
  },
  {
   "cell_type": "markdown",
   "id": "291e214a",
   "metadata": {},
   "source": [
    "## Mask loading helpers\n",
    "\n",
    "In a similar fashion we create helpers for Mask loading"
   ]
  },
  {
   "cell_type": "code",
   "execution_count": null,
   "id": "14c765d8",
   "metadata": {},
   "outputs": [],
   "source": [
    "#| export\n",
    "class MSMaskGetter:\n",
    "    pass\n",
    "\n",
    "@patch\n",
    "def load_mask(self: MSMaskGetter, band_ids: list[str], img_id: Any) -> TensorMask:\n",
    "    pass"
   ]
  },
  {
   "cell_type": "code",
   "execution_count": null,
   "id": "ed27f546",
   "metadata": {},
   "outputs": [],
   "source": [
    "#| export\n",
    "class _MSFileMaskGetter(MSMaskGetter):\n",
    "    pass\n",
    "\n",
    "@patch\n",
    "def __init__(\n",
    "    self: _MSFileMaskGetter,\n",
    "    files_getter: Callable[[list[str], Any], list[str]],\n",
    "    chan_io_fn: Callable[[list[str]], TensorMask]\n",
    "):\n",
    "    store_attr()\n",
    "\n",
    "@patch\n",
    "def load_mask(self: _MSFileMaskGetter, mask_id: str, img_id: Any) -> TensorMask:\n",
    "    file = self.files_getter([mask_id], img_id)[0]\n",
    "    return self.chan_io_fn(file)"
   ]
  },
  {
   "cell_type": "code",
   "execution_count": null,
   "id": "fc469ee1",
   "metadata": {},
   "outputs": [],
   "source": [
    "#| export\n",
    "class _MSDelegatingMaskGetter(MSMaskGetter):\n",
    "    pass\n",
    "\n",
    "@patch\n",
    "def __init__(\n",
    "    self: _MSDelegatingMaskGetter,\n",
    "    tg_fn: Callable[[str, Any], TensorMask]\n",
    "):\n",
    "    store_attr()\n",
    "\n",
    "@patch\n",
    "def load_mask(self: _MSDelegatingMaskGetter, mask_id: str, img_id: Any) -> TensorMask:\n",
    "    return self.tg_fn(mask_id, img_id)"
   ]
  },
  {
   "cell_type": "code",
   "execution_count": null,
   "id": "8c03beac",
   "metadata": {},
   "outputs": [],
   "source": [
    "#| export\n",
    "@patch(cls_method=True)\n",
    "def from_files(\n",
    "    cls: MSMaskGetter,\n",
    "    files_getter: Callable[[list[str], Any], list[str]],\n",
    "    chan_io_fn: Callable[list[str], TensorMask]\n",
    "):\n",
    "    return _MSFileMaskGetter(files_getter, chan_io_fn)\n",
    "\n",
    "@patch(cls_method=True)\n",
    "def from_delegate(\n",
    "    cls: MSMaskGetter,\n",
    "    tg_fn: Callable[[str, Any], TensorMask]\n",
    "):\n",
    "    return _MSDelegatingMaskGetter(tg_fn)"
   ]
  },
  {
   "cell_type": "code",
   "execution_count": null,
   "id": "3677ff79",
   "metadata": {},
   "outputs": [],
   "source": [
    "#| hide\n",
    "import nbdev; nbdev.nbdev_export()"
   ]
  }
 ],
 "metadata": {
  "kernelspec": {
   "display_name": "Python [conda env:fastgs] *",
   "language": "python",
   "name": "conda-env-fastgs-py"
  }
 },
 "nbformat": 4,
 "nbformat_minor": 5
}
