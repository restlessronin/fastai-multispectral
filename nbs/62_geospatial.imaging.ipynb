{
 "cells": [
  {
   "cell_type": "code",
   "execution_count": null,
   "metadata": {},
   "outputs": [],
   "source": [
    "#|default_exp geospatial.imaging"
   ]
  }
 ],
 "metadata": {
  "kernelspec": {
   "display_name": "Python [conda env:fastai-multispectral] *",
   "language": "python",
   "name": "conda-env-fastai-multispectral-py"
  }
 },
 "nbformat": 4,
 "nbformat_minor": 2
}
