{
 "cells": [
  {
   "cell_type": "code",
   "execution_count": null,
   "metadata": {},
   "outputs": [],
   "source": [
    "#| default_exp vision.data"
   ]
  },
  {
   "cell_type": "code",
   "execution_count": null,
   "metadata": {},
   "outputs": [],
   "source": [
    "#| export\n",
    "from __future__ import annotations"
   ]
  },
  {
   "cell_type": "code",
   "execution_count": null,
   "metadata": {},
   "outputs": [],
   "source": [
    "#| hide\n",
    "from nbdev.showdoc import *"
   ]
  },
  {
   "cell_type": "code",
   "execution_count": null,
   "metadata": {},
   "outputs": [],
   "source": [
    "#| export\n",
    "from fastai.vision.all import *\n",
    "from fastgs.vision.core import *"
   ]
  },
  {
   "cell_type": "markdown",
   "metadata": {},
   "source": [
    "# Multi-spectral Vision Data\n",
    "\n",
    "> Data support functions for working with `TensorImageMS`"
   ]
  },
  {
   "cell_type": "markdown",
   "metadata": {},
   "source": [
    "## Show methods -"
   ]
  },
  {
   "cell_type": "code",
   "execution_count": null,
   "metadata": {},
   "outputs": [],
   "source": [
    "#| export\n",
    "def _show_one_sample(img: TensorImageMS, msk: TensorMask, row, mskovl, **kwargs):\n",
    "    if mskovl:\n",
    "        return [msk.show(ctx=c, **kwargs) for c in img.show(ctxs=row, **kwargs)]\n",
    "    else:\n",
    "        nimgs = img.num_images()\n",
    "        return img.show(ctxs=row[:nimgs]) + [msk.show(row[nimgs])]"
   ]
  },
  {
   "cell_type": "code",
   "execution_count": null,
   "metadata": {},
   "outputs": [],
   "source": [
    "#| export\n",
    "@typedispatch\n",
    "def show_batch(\n",
    "    x: TensorImageMS,  # Input(s) in the batch\n",
    "    y: TensorMask,  # Target(s) in the batch\n",
    "    samples: list,  # List of (`x`, `y`) pairs of length `max_n`\n",
    "    ctxs=None,  # List of `ctx` objects to show data. Could be a matplotlib axis, DataFrame, etc.\n",
    "    max_n: int=9,  # Maximum number of `samples` to show\n",
    "    nrows:int=None,\n",
    "    ncols:int=None,\n",
    "    figsize=None,\n",
    "    mskovl:bool=True, # mask is overlaid on the image\n",
    "    **kwargs\n",
    "):\n",
    "    assert len(samples[0]) == 2 and not hasattr(samples[0], \"show\")\n",
    "    assert nrows is None and ncols is None and ctxs is None\n",
    "\n",
    "    nimgs = x.num_images()\n",
    "    nrows = min(len(samples),max_n)\n",
    "    ncols = nimgs if mskovl else nimgs + 1\n",
    "\n",
    "    ctxs = get_grid(nrows * ncols, nrows, ncols, figsize=figsize)\n",
    "    rwcx = [ctxs[pos : pos + ncols] for pos in range(0, len(ctxs), ncols)]\n",
    "    imgs,msks = samples.itemgot(0),samples.itemgot(1)\n",
    "\n",
    "    return [_show_one_sample(img, msk, row, mskovl) for img, msk, row, _ in zip(imgs, msks, rwcx, range(nrows))]"
   ]
  },
  {
   "cell_type": "code",
   "execution_count": null,
   "metadata": {},
   "outputs": [],
   "source": [
    "#| hide\n",
    "import nbdev; nbdev.nbdev_export()"
   ]
  }
 ],
 "metadata": {
  "kernelspec": {
   "display_name": "Python [conda env:fastgs] *",
   "language": "python",
   "name": "conda-env-fastgs-py"
  }
 },
 "nbformat": 4,
 "nbformat_minor": 2
}
