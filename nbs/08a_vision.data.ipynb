{
 "cells": [
  {
   "cell_type": "code",
   "execution_count": null,
   "metadata": {},
   "outputs": [],
   "source": [
    "#| default_exp vision.data"
   ]
  },
  {
   "cell_type": "code",
   "execution_count": null,
   "metadata": {},
   "outputs": [],
   "source": [
    "#| export\n",
    "from __future__ import annotations"
   ]
  },
  {
   "cell_type": "code",
   "execution_count": null,
   "metadata": {},
   "outputs": [],
   "source": [
    "#| hide\n",
    "from nbdev.showdoc import *"
   ]
  },
  {
   "cell_type": "code",
   "execution_count": null,
   "metadata": {},
   "outputs": [],
   "source": [
    "#| export\n",
    "import torch\n",
    "import fastai\n",
    "from fastai.vision.all import *\n",
    "\n",
    "from fastai_geospatial.vision.core import *"
   ]
  },
  {
   "cell_type": "code",
   "execution_count": null,
   "metadata": {},
   "outputs": [],
   "source": [
    "def get_grid_batch(nrows: int, ncols: int, figsize=None) -> list:\n",
    "    assert nrows is not None and ncols is not None\n",
    "    n_cells = nrows * ncols\n",
    "    return get_grid(n_cells, nrows=nrows, ncols=ncols, figsize=figsize)"
   ]
  },
  {
   "cell_type": "code",
   "execution_count": null,
   "metadata": {},
   "outputs": [],
   "source": [
    "def chunk_grid(ctxs: list, ncols: int) -> list:\n",
    "    return [ctxs[pos : pos + ncols] for pos in range(0, len(ctxs), ncols)]"
   ]
  },
  {
   "cell_type": "code",
   "execution_count": null,
   "metadata": {},
   "outputs": [],
   "source": [
    "@typedispatch\n",
    "def show_batch(\n",
    "    x: TensorImageMS,  # Input(s) in the batch\n",
    "    y: TensorMask,  # Target(s) in the batch\n",
    "    samples: list,  # List of (`x`, `y`) pairs of length `max_n`\n",
    "    ctxs: list=None,  # List of `ctx` objects to show data. Could be a matplotlib axis, DataFrame, etc.\n",
    "    max_n: int=9,  # Maximum number of `samples` to show\n",
    "    nrows: int=None,\n",
    "    ncols: int=None,\n",
    "    figsize=None,\n",
    "    **kwargs,\n",
    "):\n",
    "    assert nrows is None and ncols is None and ctxs is None\n",
    "    assert len(samples[0]) == 2 and not hasattr(samples[0], \"show\")\n",
    "\n",
    "    nrows, ncols = min(len(samples), max_n), x.num_images()\n",
    "    ctxs = get_grid_batch(nrows, ncols, figsize=figsize)\n",
    "    chks = chunk_grid(ctxs, ncols)\n",
    "    imgs, msks = samples.itemgot(0), samples.itemgot(1)\n",
    "\n",
    "    return [\n",
    "        [msk.show(ctx=c, **kwargs) for c in img.show(ctxs=chk, **kwargs)]\n",
    "        for img, msk, chk, _ in zip(imgs, msks, chks, range(nrows))\n",
    "    ]"
   ]
  },
  {
   "cell_type": "code",
   "execution_count": null,
   "metadata": {},
   "outputs": [],
   "source": [
    "@typedispatch\n",
    "def show_results(\n",
    "    x: TensorImageMS,  # Input(s) in the batch\n",
    "    y: TensorMask,  # Target(s) in the batch\n",
    "    samples: list,  # List of (`x`, `y`) pairs of length `max_n`\n",
    "    outs: list,  # List of predicted output(s) from the model\n",
    "    ctxs=None,  # List of `ctx` objects to show data. Could be a matplotlib axis, DataFrame, etc.\n",
    "    max_n: int=9,  # Maximum number of `samples` to show\n",
    "    nrows:int=None,\n",
    "    ncols:int=None,\n",
    "    figsize=None,\n",
    "    **kwargs,\n",
    "):\n",
    "    assert nrows is None and ncols is None and ctxs is None\n",
    "    assert len(samples[0]) == 2 and not hasattr(samples[0], \"show\")\n",
    "\n",
    "    ctxs = get_grid(min(len(samples), max_n), nrows=nrows, ncols=ncols, figsize=figsize)\n",
    "\n",
    "    nrows, ncols = min(len(samples), max_n), x.num_images()\n",
    "    ctxs = get_grid_batch(nrows, ncols, figsize=figsize)\n",
    "    chks = [ctxs[pos : pos + ncols] for pos in range(0, len(ctxs), ncols)]\n",
    "\n",
    "    ctxs = [\n",
    "        [msk.show(ctx=c, **kwargs) for c in img.show(ctxs=chk, **kwargs)]\n",
    "        for img, msk, chk, _ in zip(\n",
    "            samples.itemgot(0), samples.itemgot(1), chks, range(nrows)\n",
    "        )\n",
    "    ]\n",
    "    for i in range(len(outs[0])):\n",
    "        ctxs = [\n",
    "            b.show(ctx=c, **kwargs)\n",
    "            for b, c, _ in zip(outs.itemgot(i), ctxs, range(max_n))\n",
    "        ]\n",
    "    return ctxs"
   ]
  }
 ],
 "metadata": {
  "kernelspec": {
   "display_name": "Python 3.10.6 64-bit",
   "language": "python",
   "name": "python3"
  },
  "language_info": {
   "name": "python",
   "version": "3.10.6"
  },
  "vscode": {
   "interpreter": {
    "hash": "b0fa6594d8f4cbf19f97940f81e996739fb7646882a419484c72d19e05852a7e"
   }
  }
 },
 "nbformat": 4,
 "nbformat_minor": 2
}
