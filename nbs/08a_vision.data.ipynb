{
 "cells": [
  {
   "cell_type": "code",
   "execution_count": null,
   "metadata": {},
   "outputs": [],
   "source": [
    "#| default_exp vision.data"
   ]
  },
  {
   "cell_type": "code",
   "execution_count": null,
   "metadata": {},
   "outputs": [],
   "source": [
    "#| export\n",
    "from __future__ import annotations"
   ]
  },
  {
   "cell_type": "code",
   "execution_count": null,
   "metadata": {},
   "outputs": [],
   "source": [
    "#| hide\n",
    "from nbdev.showdoc import *"
   ]
  },
  {
   "cell_type": "code",
   "execution_count": null,
   "metadata": {},
   "outputs": [],
   "source": [
    "#| export\n",
    "from fastai.vision.all import *\n",
    "\n",
    "from fastgs.vision.core import *"
   ]
  },
  {
   "cell_type": "markdown",
   "metadata": {},
   "source": [
    "# Multi Spectral Data\n",
    "\n",
    "We now look at the transforms required to work with multi-spectral data loaders.\n",
    "\n",
    "## Display batches\n",
    "\n",
    "Among other things we need to "
   ]
  },
  {
   "cell_type": "code",
   "execution_count": null,
   "metadata": {},
   "outputs": [],
   "source": [
    "#| export\n",
    "def _get_grid_batch(nrows: int, ncols: int, figsize=None) -> list:\n",
    "    assert nrows is not None and ncols is not None\n",
    "    n_cells = nrows * ncols\n",
    "    return get_grid(n_cells, nrows=nrows, ncols=ncols, figsize=figsize)"
   ]
  },
  {
   "cell_type": "code",
   "execution_count": null,
   "metadata": {},
   "outputs": [],
   "source": [
    "#| export\n",
    "def _chunk_grid(ctxs: list, ncols: int) -> list:\n",
    "    return [ctxs[pos : pos + ncols] for pos in range(0, len(ctxs), ncols)]"
   ]
  },
  {
   "cell_type": "code",
   "execution_count": null,
   "metadata": {},
   "outputs": [],
   "source": [
    "#| export\n",
    "def _show_batch_overlay_mask(\n",
    "    x: TensorImageMS,  # Input(s) in the batch\n",
    "    y: TensorMask,  # Target(s) in the batch\n",
    "    samples: list,  # List of (`x`, `y`) pairs of length `max_n`\n",
    "    max_n: int=9,  # Maximum number of `samples` to show\n",
    "    figsize=None,\n",
    "    **kwargs,\n",
    "):\n",
    "    assert len(samples[0]) == 2 and not hasattr(samples[0], \"show\")\n",
    "\n",
    "    nrows,ncols = min(len(samples),max_n),x.num_images()\n",
    "    ctxs = _get_grid_batch(nrows, ncols, figsize=figsize)\n",
    "    chks = _chunk_grid(ctxs, ncols)\n",
    "    imgs,msks = samples.itemgot(0),samples.itemgot(1)\n",
    "\n",
    "    return [\n",
    "        [msk.show(ctx=c, **kwargs) for c in img.show(ctxs=chk, **kwargs)]\n",
    "        for img, msk, chk, _ in zip(imgs, msks, chks, range(nrows))\n",
    "    ]"
   ]
  },
  {
   "cell_type": "code",
   "execution_count": null,
   "metadata": {},
   "outputs": [],
   "source": [
    "#| export\n",
    "@typedispatch\n",
    "def show_batch(\n",
    "    x: TensorImageMS,  # Input(s) in the batch\n",
    "    y: TensorMask,  # Target(s) in the batch\n",
    "    samples: list,  # List of (`x`, `y`) pairs of length `max_n`\n",
    "    ctxs=None,  # List of `ctx` objects to show data. Could be a matplotlib axis, DataFrame, etc.\n",
    "    max_n: int=9,  # Maximum number of `samples` to show\n",
    "    nrows:int=None,\n",
    "    ncols:int=None,\n",
    "    figsize=None,\n",
    "    **kwargs,\n",
    "):\n",
    "    _show_batch_overlay_mask(x,y,samples,max_n,figsize,**kwargs)"
   ]
  },
  {
   "cell_type": "code",
   "execution_count": null,
   "metadata": {},
   "outputs": [],
   "source": [
    "#| export\n",
    "@typedispatch\n",
    "def show_results(\n",
    "    x: TensorImageMS,  # Input(s) in the batch\n",
    "    y: TensorMask,  # Target(s) in the batch\n",
    "    samples: list,  # List of (`x`, `y`) pairs of length `max_n`\n",
    "    outs: list,  # List of predicted output(s) from the model\n",
    "    ctxs=None,  # List of `ctx` objects to show data. Could be a matplotlib axis, DataFrame, etc.\n",
    "    max_n: int=9,  # Maximum number of `samples` to show\n",
    "    nrows:int=None,\n",
    "    ncols:int=None,\n",
    "    figsize=None,\n",
    "    **kwargs,\n",
    "):\n",
    "    assert nrows is None and ncols is None and ctxs is None\n",
    "    assert len(samples[0]) == 2 and not hasattr(samples[0], \"show\")\n",
    "\n",
    "    ctxs = get_grid(min(len(samples), max_n), nrows=nrows, ncols=ncols, figsize=figsize)\n",
    "\n",
    "    nrows, ncols = min(len(samples), max_n), x.num_images()\n",
    "    ctxs = get_grid_batch(nrows, ncols, figsize=figsize)\n",
    "    chks = [ctxs[pos : pos + ncols] for pos in range(0, len(ctxs), ncols)]\n",
    "\n",
    "    ctxs = [\n",
    "        [msk.show(ctx=c, **kwargs) for c in img.show(ctxs=chk, **kwargs)]\n",
    "        for img, msk, chk, _ in zip(\n",
    "            samples.itemgot(0), samples.itemgot(1), chks, range(nrows)\n",
    "        )\n",
    "    ]\n",
    "    for i in range(len(outs[0])):\n",
    "        ctxs = [\n",
    "            b.show(ctx=c, **kwargs)\n",
    "            for b, c, _ in zip(outs.itemgot(i), ctxs, range(max_n))\n",
    "        ]\n",
    "    return ctxs"
   ]
  },
  {
   "cell_type": "code",
   "execution_count": null,
   "metadata": {},
   "outputs": [],
   "source": [
    "#| hide\n",
    "import nbdev; nbdev.nbdev_export()"
   ]
  }
 ],
 "metadata": {
  "kernelspec": {
   "display_name": "Python [conda env:fastgs] *",
   "language": "python",
   "name": "conda-env-fastgs-py"
  }
 },
 "nbformat": 4,
 "nbformat_minor": 2
}
