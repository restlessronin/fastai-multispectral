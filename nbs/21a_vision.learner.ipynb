{
 "cells": [
  {
   "cell_type": "code",
   "execution_count": null,
   "id": "90e686e1",
   "metadata": {},
   "outputs": [],
   "source": [
    "#|default_exp vision.learner"
   ]
  },
  {
   "cell_type": "code",
   "execution_count": null,
   "id": "983f969c",
   "metadata": {},
   "outputs": [],
   "source": [
    "#| export\n",
    "from __future__ import annotations"
   ]
  },
  {
   "cell_type": "code",
   "execution_count": null,
   "id": "aabeccda",
   "metadata": {},
   "outputs": [],
   "source": [
    "#| hide\n",
    "from nbdev.showdoc import *"
   ]
  },
  {
   "cell_type": "code",
   "execution_count": null,
   "id": "3f6de15b",
   "metadata": {},
   "outputs": [],
   "source": [
    "#| export\n",
    "from fastai.vision.all import *\n",
    "from fastgs.vision.core import *"
   ]
  },
  {
   "cell_type": "markdown",
   "id": "d696e343",
   "metadata": {},
   "source": [
    "# Multi-spectral Vision Learner\n",
    "\n",
    "> Learner support functions for working with `TensorImageMS`\n"
   ]
  },
  {
   "cell_type": "markdown",
   "id": "bad7eaa4",
   "metadata": {},
   "source": [
    "## Show functions -"
   ]
  },
  {
   "cell_type": "code",
   "execution_count": null,
   "id": "7281f106",
   "metadata": {},
   "outputs": [],
   "source": [
    "#| export\n",
    "def _show_one_result(img: TensorImageMS, msk: TensorMask, out, row, mskovl, **kwargs):\n",
    "    if mskovl:\n",
    "        rowl = len(row) / 2\n",
    "        return [msk.show(ctx=c, **kwargs) for c in img.show(row[:rowl])]\n",
    "        + [out.show(ctx=c, **kwargs) for c in img.show(row[rowl:])]\n",
    "    else:\n",
    "        nimgs = img.num_images()\n",
    "        return img.show(ctxs=row[:nimgs]) + [msk.show(row[nimgs])] + [out.show(row[nimgs+1])]"
   ]
  },
  {
   "cell_type": "code",
   "execution_count": null,
   "id": "bf1b7dff",
   "metadata": {},
   "outputs": [],
   "source": [
    "#|export\n",
    "@typedispatch\n",
    "def show_results(x:TensorImageMS, y:TensorMask, samples, outs, ctxs=None, max_n=6,\n",
    "                 nrows:int=None, ncols:int=None, figsize=None, mskovl:bool=True, **kwargs):\n",
    "    assert nrows is None and ncols is None and ctxs is None\n",
    "    \n",
    "    nimgs = x.num_images()\n",
    "    n = min(len(samples),max_n)\n",
    "    nrows = 2 * n if mskovl else n\n",
    "    ncols = nimgs if mskovl else nimgs + 2\n",
    "\n",
    "    ctxs = get_grid(nrows * ncols, nrows, ncols, figsize=figsize, title='Ground Truth/Prediction')\n",
    "    chksize = 2 * n if mskovl else nimgs + 2\n",
    "    rwcx = [ctxs[pos : pos + chksize] for pos in range(0, len(ctxs), ncols)]\n",
    "\n",
    "    imgs,msks,otps = samples.itemgot(0),samples.itemgot(1),outs.itemgot(0)\n",
    "    return [_show_one_result(img, msk, otp, row, mskovl, **kwargs) for img,msk,otp,row in zip(imgs, msks, outs, rwcx)]"
   ]
  },
  {
   "cell_type": "code",
   "execution_count": null,
   "id": "55811974",
   "metadata": {},
   "outputs": [],
   "source": [
    "#|export\n",
    "@typedispatch\n",
    "def plot_top_losses(x:TensorImageMS, y:TensorMask, samples, outs, raws, losses, nrows=None, ncols=None, figsize=None, **kwargs):\n",
    "    axes = get_grid(len(samples)*3, nrows=len(samples), ncols=3, figsize=figsize, flatten=False, title=\"Input | Target | Prediction\")\n",
    "    if axes.ndim == 1: axes = (axes,)\n",
    "    titles = [\"input\", \"target\", \"pred\"]\n",
    "    for axs,s,o,l in zip(axes, samples, outs, losses):\n",
    "        imgs = (s[0], s[1], o[0])\n",
    "        for ax,im,title in zip(axs, imgs, titles):\n",
    "            if title==\"pred\": title += f\"; loss = {l:.4f}\"\n",
    "            im.show(ctx=ax, **kwargs)\n",
    "            ax.set_title(title)"
   ]
  },
  {
   "cell_type": "code",
   "execution_count": null,
   "id": "18281110",
   "metadata": {},
   "outputs": [],
   "source": [
    "#| hide\n",
    "import nbdev; nbdev.nbdev_export()"
   ]
  }
 ],
 "metadata": {
  "kernelspec": {
   "display_name": "Python [conda env:fastgs] *",
   "language": "python",
   "name": "conda-env-fastgs-py"
  }
 },
 "nbformat": 4,
 "nbformat_minor": 5
}
