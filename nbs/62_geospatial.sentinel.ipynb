{
 "cells": [
  {
   "cell_type": "code",
   "execution_count": null,
   "metadata": {},
   "outputs": [],
   "source": [
    "#|default_exp geospatial.sentinel"
   ]
  },
  {
   "cell_type": "code",
   "execution_count": null,
   "metadata": {},
   "outputs": [],
   "source": [
    "#| export\n",
    "from __future__ import annotations"
   ]
  },
  {
   "cell_type": "code",
   "execution_count": null,
   "metadata": {},
   "outputs": [],
   "source": [
    "#| hide\n",
    "from nbdev.showdoc import *"
   ]
  },
  {
   "cell_type": "code",
   "execution_count": null,
   "metadata": {},
   "outputs": [],
   "source": [
    "#| export\n",
    "from typing import Callable\n",
    "from dataclasses import dataclass\n",
    "from fastai.vision.all import *\n",
    "\n",
    "from fastgeo.vision.core import *"
   ]
  },
  {
   "cell_type": "markdown",
   "metadata": {},
   "source": [
    "# Support for Sentinel-2 Data\n",
    "\n",
    "Sentinel 2 images consist of 13 raw bands, with pixel resolution ranging from 10m to 20m to 60m. In practice, we may be working with a subset of these bands.\n",
    "\n",
    "For example we may choose to only work with the 10m resolution bands IR, R, G, B with corresponding band ids \"B08\", \"B04\", \"B03\", \"B02\". \n",
    "\n",
    "If we create an input tensor of such images the tensor indices of the image data for each band will be 0, 1, 2, 3 (for dimension 0) respectively.\n",
    "\n",
    "## `BandInputs` support class\n",
    "\n",
    "To do this we need a helper class that maps channel names to channel indexes."
   ]
  },
  {
   "cell_type": "code",
   "execution_count": null,
   "metadata": {},
   "outputs": [],
   "source": [
    "#| exports\n",
    "@dataclass\n",
    "class BandInputs:\n",
    "    ids: list[str]\n",
    "    idxs: list[int]\n",
    "\n",
    "    @classmethod\n",
    "    def from_ids(cls, ids: list[str]):\n",
    "        return cls(ids, [i for i in range(len(ids))])"
   ]
  },
  {
   "cell_type": "markdown",
   "metadata": {},
   "source": [
    "Map the the channels \"B01\", \"B02\", \"B03\" to 0, 1, 2"
   ]
  },
  {
   "cell_type": "code",
   "execution_count": null,
   "metadata": {},
   "outputs": [],
   "source": [
    "bands = BandInputs.from_ids([\"B01\",\"B02\",\"B03\"])\n",
    "\n",
    "test_eq(bands, BandInputs(ids=[\"B01\",\"B02\",\"B03\"], idxs=[0,1,2]))"
   ]
  },
  {
   "cell_type": "markdown",
   "metadata": {},
   "source": [
    "The following method returns the index corresponding to a channel name"
   ]
  },
  {
   "cell_type": "code",
   "execution_count": null,
   "metadata": {},
   "outputs": [],
   "source": [
    "#| export\n",
    "@patch\n",
    "def _get_index(self: BandInputs, id: str) -> int:\n",
    "    return self.idxs[self.ids.index(id)]"
   ]
  },
  {
   "cell_type": "code",
   "execution_count": null,
   "metadata": {},
   "outputs": [],
   "source": [
    "test_eq(bands._get_index(\"B02\"), 1)"
   ]
  },
  {
   "cell_type": "markdown",
   "metadata": {},
   "source": [
    "Return index tuples corresponding to a list of channel names."
   ]
  },
  {
   "cell_type": "code",
   "execution_count": null,
   "metadata": {},
   "outputs": [],
   "source": [
    "#| export\n",
    "@patch\n",
    "def _get_bands(self: BandInputs, ids: list[str]) -> tuple[int]:\n",
    "    assert set(ids).issubset(set(self.ids))\n",
    "    return tuple(self._get_index(id) for id in ids)"
   ]
  },
  {
   "cell_type": "code",
   "execution_count": null,
   "metadata": {},
   "outputs": [],
   "source": [
    "test_eq(bands._get_bands([\"B03\",\"B01\"]), (2, 0))"
   ]
  },
  {
   "cell_type": "markdown",
   "metadata": {},
   "source": [
    "Return list of index tuples corresponding to a list of lists of index channel names."
   ]
  },
  {
   "cell_type": "code",
   "execution_count": null,
   "metadata": {},
   "outputs": [],
   "source": [
    "#| export\n",
    "@patch\n",
    "def get_bands_list(self: BandInputs, ids_list: list[list[str]]) -> list[tuple[int]]:\n",
    "    return [self._get_bands(ids) for ids in ids_list]"
   ]
  },
  {
   "cell_type": "code",
   "execution_count": null,
   "metadata": {},
   "outputs": [],
   "source": [
    "test_eq(\n",
    "    bands.get_bands_list([[\"B03\",\"B02\",\"B01\"], [\"B01\"], [\"B03\"]]),\n",
    "    [(2, 1, 0), (0,), (2,)],\n",
    ")"
   ]
  },
  {
   "cell_type": "markdown",
   "metadata": {},
   "source": [
    "## `Sentinel2` tensor loader\n",
    "\n",
    "We need a class that can load tensors corresponding to sub-sets of sentinel channels.\n",
    "\n",
    "We begin an enumeration of the names of all possible channels and associated information. One such item of information, is the resolution corresponding to each channel.\n",
    "\n",
    "Another piece of information is a list of the `brgtX` \"brightening\" multipliers for each channel (as described [here](07a_vision.core.ipynb#Image-Brightening)). We have selected values that seem to work well with our data, but it is by no means an authoritative list.\n",
    "\n",
    "We have also provide some named groups of 3 bands each, that have been found useful in providing [false color images for different applications](https://gisgeography.com/sentinel-2-bands-combinations/). The goal is to create (multiple) RGB images, corresponding to such sets of bands, for each multi-spectral tensor."
   ]
  },
  {
   "cell_type": "code",
   "execution_count": null,
   "metadata": {},
   "outputs": [],
   "source": [
    "#| export\n",
    "class Sentinel2:\n",
    "    band_ids: list[str] = [\"B01\",\"B02\",\"B03\",\"B04\",\"B05\",\"B06\",\"B07\",\"B08\",\"B8A\",\"B09\",\"B10\",\"B11\",\"B12\",\"AOT\",]\n",
    "    res_m: list[int] = [60,10,10,10,20,20,20,10,20,60,60,20,20,20]\n",
    "    brgtX: list[float] = [2.5,4.75,4.25,3.75,3,2,1.7,1.7,2.5,2.5,1.6,1.6,2.2,30,]\n",
    "\n",
    "    # https://gisgeography.com/sentinel-2-bands-combinations/\n",
    "    natural_color = [\"B04\",\"B03\",\"B02\"]\n",
    "    color_infrared = [\"B08\",\"B04\",\"B03\"]\n",
    "    short_wave_infrared = [\"B12\",\"B8a\",\"B04\"]\n",
    "    agriculture = [\"B11\",\"B08\",\"B02\"]\n",
    "    geology = [\"B12\",\"B11\",\"B02\"]\n",
    "    bathymetric = [\"B04\",\"B03\",\"B01\"]"
   ]
  },
  {
   "cell_type": "markdown",
   "metadata": {},
   "source": [
    "This method lists all bands of a given resolution."
   ]
  },
  {
   "cell_type": "code",
   "execution_count": null,
   "metadata": {},
   "outputs": [],
   "source": [
    "#| export\n",
    "@patch(cls_method=True)\n",
    "def get_res_ids(cls: Sentinel2, res: int) -> list[str]:\n",
    "    indices = [i for i,r in enumerate(cls.res_m) if r == res]\n",
    "    return [cls.band_ids[i] for i in indices]"
   ]
  },
  {
   "cell_type": "code",
   "execution_count": null,
   "metadata": {},
   "outputs": [],
   "source": [
    "test_eq(Sentinel2.get_res_ids(10),[\"B02\",\"B03\",\"B04\",\"B08\"])"
   ]
  },
  {
   "cell_type": "markdown",
   "metadata": {},
   "source": [
    "We can find the brightness multipliers corresponding to a list of channel names with this"
   ]
  },
  {
   "cell_type": "code",
   "execution_count": null,
   "metadata": {},
   "outputs": [],
   "source": [
    "#| export\n",
    "@patch(cls_method=True)\n",
    "def get_brgtX(cls: Sentinel2, ids: list[str]) -> list[float]:\n",
    "    indices = [cls.band_ids.index(id) for id in ids]\n",
    "    return [cls.brgtX[i] for i in indices]"
   ]
  },
  {
   "cell_type": "code",
   "execution_count": null,
   "metadata": {},
   "outputs": [],
   "source": [
    "test_eq(Sentinel2.get_brgtX([\"B8A\",\"B01\"]), [2.5,2.5])\n",
    "test_eq(Sentinel2.get_brgtX(Sentinel2.natural_color), [3.75,4.25,4.75])"
   ]
  },
  {
   "cell_type": "markdown",
   "metadata": {},
   "source": [
    "... and so also the brightness value lists corresponding to name lists"
   ]
  },
  {
   "cell_type": "code",
   "execution_count": null,
   "metadata": {},
   "outputs": [],
   "source": [
    "#| export\n",
    "@patch(cls_method=True)\n",
    "def get_brgtX_list(cls: Sentinel2, ids_list: list[list[str]]) -> list[list[float]]:\n",
    "    return [cls.get_brgtX(ids) for ids in ids_list]"
   ]
  },
  {
   "cell_type": "code",
   "execution_count": null,
   "metadata": {},
   "outputs": [],
   "source": [
    "test_eq(\n",
    "    Sentinel2.get_brgtX_list([Sentinel2.color_infrared,[\"B12\",\"B11\"]]), \n",
    "    [[1.7,3.75,4.25],[2.2,1.6]]\n",
    ")"
   ]
  },
  {
   "cell_type": "markdown",
   "metadata": {},
   "source": [
    "The actual constructor of Sentinel 2 objects takes parameters that specifices how to load the multi spectral image into a `TensorImageMS` object."
   ]
  },
  {
   "cell_type": "code",
   "execution_count": null,
   "metadata": {},
   "outputs": [],
   "source": [
    "#| export\n",
    "@patch\n",
    "def __init__(\n",
    "    self: Sentinel2,\n",
    "    band_ids: list[str],\n",
    "    chn_grp_ids: list[list[str]],\n",
    "    files_getter: Callable[[list[str], Any], list[str]],\n",
    "    chan_io_fn: Callable[[list[str]], Tensor],\n",
    "):\n",
    "    self.bands = BandInputs.from_ids(band_ids)\n",
    "    self.chn_grp_ids = chn_grp_ids\n",
    "    self.files_getter = files_getter\n",
    "    self.chan_io_fn = chan_io_fn"
   ]
  },
  {
   "cell_type": "code",
   "execution_count": null,
   "metadata": {},
   "outputs": [],
   "source": [
    "from fastgeo.vision.io import *"
   ]
  },
  {
   "cell_type": "markdown",
   "metadata": {},
   "source": [
    "In our case, the callable is `get_channel_filenames` [from here](00_vision.io.ipynb#File-paths-and-names)"
   ]
  },
  {
   "cell_type": "code",
   "execution_count": null,
   "metadata": {},
   "outputs": [],
   "source": [
    "def get_input(stem: str) -> str:\n",
    "    \"Get full input path for stem\"\n",
    "    return \"./images/\" + stem\n",
    "\n",
    "def tile_img_name(chn_id: str, tile_num: int) -> str:\n",
    "    \"File name from channel id and tile number\"\n",
    "    return f\"Sentinel20m-{chn_id}-20200215-{tile_num:03d}.png\"\n",
    "\n",
    "def get_channel_filenames(chn_ids, tile_idx):\n",
    "    \"Get list of all channel filenames for one tile idx\"\n",
    "    return [get_input(tile_img_name(x, tile_idx)) for x in chn_ids]"
   ]
  },
  {
   "cell_type": "markdown",
   "metadata": {},
   "source": [
    "We can create a sentinel data loader for only the RGB channels"
   ]
  },
  {
   "cell_type": "code",
   "execution_count": null,
   "metadata": {},
   "outputs": [],
   "source": [
    "rgb_bands = Sentinel2(\n",
    "    [\"B02\",\"B03\",\"B04\"],\n",
    "    [Sentinel2.natural_color],\n",
    "    get_channel_filenames,\n",
    "    read_multichan_files_as_tensor\n",
    ")"
   ]
  },
  {
   "cell_type": "markdown",
   "metadata": {},
   "source": [
    "or we might choose to only look at the 10m resolution bands "
   ]
  },
  {
   "cell_type": "code",
   "execution_count": null,
   "metadata": {},
   "outputs": [],
   "source": [
    "tenm_bands = Sentinel2(\n",
    "    Sentinel2.get_res_ids(10),\n",
    "    [Sentinel2.natural_color, [\"B08\"]],\n",
    "    get_channel_filenames,\n",
    "    read_multichan_files_as_tensor\n",
    ")"
   ]
  },
  {
   "cell_type": "code",
   "execution_count": null,
   "metadata": {},
   "outputs": [],
   "source": [
    "#| export\n",
    "@patch\n",
    "def _load_tensor(self: Sentinel2, img_id, cls: TensorImage) -> TensorImage:\n",
    "    files = self.files_getter(self.bands.ids, img_id)\n",
    "    ids_list = self.chn_grp_ids\n",
    "    bands = self.bands.get_bands_list(ids_list)\n",
    "    brgtX = self.__class__.get_brgtX_list(ids_list)\n",
    "    return cls(self.chan_io_fn(files), bands=bands, brgtX=brgtX)\n",
    "\n",
    "@patch\n",
    "def load_tensor(self: Sentinel2, img_id) -> TensorImageMS:\n",
    "    return self._load_tensor(img_id, TensorImageMS)                "
   ]
  },
  {
   "cell_type": "code",
   "execution_count": null,
   "metadata": {},
   "outputs": [],
   "source": [
    "rgb_tensor = rgb_bands.load_tensor(66)\n",
    "rgb_tensor.show()"
   ]
  },
  {
   "cell_type": "code",
   "execution_count": null,
   "metadata": {},
   "outputs": [],
   "source": [
    "tenm_tensor = tenm_bands.load_tensor(66)\n",
    "tenm_tensor.show()"
   ]
  },
  {
   "cell_type": "code",
   "execution_count": null,
   "metadata": {},
   "outputs": [],
   "source": [
    "#| hide\n",
    "import nbdev; nbdev.nbdev_export()"
   ]
  }
 ],
 "metadata": {
  "kernelspec": {
   "display_name": "Python 3 (ipykernel)",
   "language": "python",
   "name": "python3"
  }
 },
 "nbformat": 4,
 "nbformat_minor": 2
}
