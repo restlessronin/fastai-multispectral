{
 "cells": [
  {
   "cell_type": "markdown",
   "metadata": {},
   "source": [
    "# fastai-multispectral\n",
    "\n",
    "Multi-spectral image support for FastAI"
   ]
  },
  {
   "cell_type": "code",
   "execution_count": null,
   "metadata": {},
   "outputs": [],
   "source": [
    "#| default_exp vision.core"
   ]
  },
  {
   "cell_type": "code",
   "execution_count": null,
   "metadata": {},
   "outputs": [],
   "source": [
    "#| export\n",
    "from __future__ import annotations"
   ]
  },
  {
   "cell_type": "code",
   "execution_count": null,
   "metadata": {},
   "outputs": [],
   "source": [
    "#| hide\n",
    "from nbdev.showdoc import *"
   ]
  },
  {
   "cell_type": "code",
   "execution_count": null,
   "metadata": {},
   "outputs": [],
   "source": [
    "#| export\n",
    "import math\n",
    "import matplotlib.pyplot as plt\n",
    "import matplotlib.animation as animation\n",
    "from IPython.display import display, HTML\n",
    "import torch\n",
    "import fastai\n",
    "from fastai.vision.all import *"
   ]
  },
  {
   "cell_type": "code",
   "execution_count": null,
   "metadata": {},
   "outputs": [],
   "source": [
    "#| export\n",
    "class TensorImageMS(TensorImage):\n",
    "    def select_bands(self, bands: tuple[int]) -> TensorImageMS:\n",
    "        assert len(bands) <= 3\n",
    "        return torch.index_select(self, 0, torch.IntTensor(bands))\n",
    "\n",
    "    def _brighten(self, multiplier: list[float]) -> TensorImageMS:\n",
    "        assert self.shape[0] == len(multiplier)\n",
    "        brightened = self * Tensor(multiplier)[:, None, None]\n",
    "        return torch.clamp(brightened, 0, 1)\n",
    "\n",
    "    def _get_brightened_image(\n",
    "        self, bands: tuple[int], mult: tuple[float]\n",
    "    ) -> TensorImageMS:\n",
    "        img_bands: TensorImageMS = self.select_bands(bands)\n",
    "        return img_bands._brighten(mult)\n",
    "\n",
    "    @delegates(subplots, keep=True, but=[\"ctx\", \"ctxs\"])\n",
    "    def _show_tiles(self, ctxs=None, ncols: int = 1, **kwargs):\n",
    "        ims = [\n",
    "            self._get_brightened_image(b, m)\n",
    "            for b, m in zip(self.band_tuples, self.multipliers)\n",
    "        ]\n",
    "        nrows = math.ceil(len(self.band_tuples) / ncols)\n",
    "        axs = subplots(nrows, ncols, **kwargs)[1].flat if ctxs is None else ctxs\n",
    "        return [show_image(im, ax=ax) for im, ax in zip(ims, axs)]\n",
    "\n",
    "    def show_animation(self):\n",
    "        fig, ax = plt.subplots()\n",
    "        ax.axis(\"off\")\n",
    "        ims = [\n",
    "            [\n",
    "                ax.imshow(\n",
    "                    self._get_brightened_image(b, m).permute(1, 2, 0), animated=True\n",
    "                )\n",
    "            ]\n",
    "            for b, m in zip(self.band_tuples, self.multipliers)\n",
    "        ]\n",
    "        anim = animation.ArtistAnimation(fig, ims, interval=1000, blit=True)\n",
    "        plt.close()\n",
    "        display(HTML(anim.to_html5_video()))\n",
    "\n",
    "    def _get_grid(self, nrows, **kwargs):\n",
    "        ncols = self.num_images()\n",
    "        ncells = nrows * ncols\n",
    "        return get_grid(ncells, nrows, ncols, **kwargs)\n",
    "\n",
    "    def show(self, ctxs=None, **kwargs):\n",
    "        ctxs = self._get_grid(1, **kwargs) if ctxs is None else ctxs\n",
    "        return self._show_tiles(ctxs=ctxs, **kwargs)\n",
    "\n",
    "    def num_images(self):\n",
    "        return len(self.band_tuples)"
   ]
  },
  {
   "cell_type": "code",
   "execution_count": null,
   "metadata": {},
   "outputs": [],
   "source": [
    "#| hide\n",
    "import nbdev; nbdev.nbdev_export()"
   ]
  }
 ],
 "metadata": {
  "kernelspec": {
   "display_name": "Python [conda env:fastai-multispectral] *",
   "language": "python",
   "name": "conda-env-fastai-multispectral-py"
  }
 },
 "nbformat": 4,
 "nbformat_minor": 4
}
