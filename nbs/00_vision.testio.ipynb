{
 "cells": [
  {
   "cell_type": "code",
   "execution_count": null,
   "id": "ec096602",
   "metadata": {},
   "outputs": [],
   "source": [
    "#| default_exp vision.testio"
   ]
  },
  {
   "cell_type": "code",
   "execution_count": null,
   "id": "932826c9",
   "metadata": {},
   "outputs": [],
   "source": [
    "#| export\n",
    "from __future__ import annotations"
   ]
  },
  {
   "cell_type": "code",
   "execution_count": null,
   "id": "a2c38471",
   "metadata": {},
   "outputs": [],
   "source": [
    "#| hide\n",
    "from nbdev.showdoc import *"
   ]
  },
  {
   "cell_type": "code",
   "execution_count": null,
   "id": "b4259449",
   "metadata": {},
   "outputs": [],
   "source": [
    "#| export\n",
    "from PIL import Image\n",
    "from fastai.vision.all import *"
   ]
  },
  {
   "cell_type": "markdown",
   "id": "203f754d",
   "metadata": {},
   "source": [
    "# Sample IO operations for Testing\n",
    "\n",
    "We provide a number of io helper functions that are used in the library notebooks to list and read files in the repo image directory.\n",
    "\n",
    "These functions will vary based on the naming conventions and file format of your own data files.\n",
    "\n",
    "## File I/O from PNG files\n",
    "\n",
    "We create a multi-spectral tensor by reading (in this case) sentinel 2 images from files. Each sentinel channel is saved in a separate `.png` file. We can use `PIL` to read the files into `numpy` arrays which are then cast into `Tensor`s.\n",
    "\n",
    "Sentinel channels have so-called `DN` values less than `10000`. By convention `55537` is assigned to a pixel when the actual data is missing or unknown.\n",
    "\n",
    "We have normalized the data with a min-max of `(0, 10000)` after replacing missing values with `9999`."
   ]
  },
  {
   "cell_type": "code",
   "execution_count": null,
   "id": "2cf02683",
   "metadata": {},
   "outputs": [],
   "source": [
    "#| export\n",
    "def _filter_masked(raw_arr, in_msk: int, out_msk: int):\n",
    "    \"Replace input mask pixel value with selected value\"\n",
    "    return np.select([raw_arr == in_msk], [out_msk], raw_arr)\n",
    "\n",
    "def read_chn_file(path: str) -> Tensor:\n",
    "    \"Read single channel file into tensor\"\n",
    "    img_arr = np.array(Image.open(path))\n",
    "    msk_arr = _filter_masked(img_arr, 55537, 9999)\n",
    "    return Tensor(msk_arr / 10000)\n",
    "\n",
    "def read_multichan_files(files: list(str)) -> Tensor:\n",
    "    \"Read individual channel tensor files into a tensor of channels\"\n",
    "    return torch.cat([read_chn_file(path)[None] for path in files])"
   ]
  },
  {
   "cell_type": "markdown",
   "id": "e08a3960",
   "metadata": {},
   "source": [
    "To keep the io in one file, we use the following to read label masks for segmentation."
   ]
  },
  {
   "cell_type": "code",
   "execution_count": null,
   "id": "be249105",
   "metadata": {},
   "outputs": [],
   "source": [
    "#| export\n",
    "# TODO abstract this filter\n",
    "def _to_bin_seg(img_arr):\n",
    "    return np.select([img_arr == 255, img_arr < 6, img_arr == 6],[0, 0, 1],img_arr)\n",
    "\n",
    "def read_mask_file(path: str) -> TensorMask:\n",
    "    \"\"\"Read ground truth segmentation label files with values from 0 to n.\"\"\"\n",
    "    img_arr = np.array(Image.open(path))\n",
    "    prc_arr = _to_bin_seg(img_arr)\n",
    "    return TensorMask(prc_arr)"
   ]
  },
  {
   "cell_type": "markdown",
   "id": "73546540",
   "metadata": {},
   "source": [
    "## File and directory names"
   ]
  },
  {
   "cell_type": "code",
   "execution_count": null,
   "id": "ce1472a8",
   "metadata": {},
   "outputs": [],
   "source": [
    "#| export\n",
    "def _get_input(stem: str) -> str:\n",
    "    \"Get full input path for stem\"\n",
    "    return \"./images/\" + stem\n",
    "\n",
    "def _tile_img_name(chn_id: str, tile_num: int) -> str:\n",
    "    \"File name from channel id and tile number\"\n",
    "    return f\"Sentinel20m-{chn_id}-20200215-{tile_num:03d}.png\"\n",
    "\n",
    "def get_channel_filenames(chn_ids, tile_idx):\n",
    "    \"Get list of all channel filenames for one tile idx\"\n",
    "    return [_get_input(_tile_img_name(x, tile_idx)) for x in chn_ids]"
   ]
  },
  {
   "cell_type": "code",
   "execution_count": null,
   "id": "569a67a4",
   "metadata": {},
   "outputs": [],
   "source": [
    "#| hide\n",
    "import nbdev; nbdev.nbdev_export()"
   ]
  }
 ],
 "metadata": {
  "kernelspec": {
   "display_name": "Python [conda env:fastgs] *",
   "language": "python",
   "name": "conda-env-fastgs-py"
  }
 },
 "nbformat": 4,
 "nbformat_minor": 5
}
